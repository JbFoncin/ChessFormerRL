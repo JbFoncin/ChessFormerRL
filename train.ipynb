{
 "cells": [
  {
   "cell_type": "code",
   "execution_count": null,
   "metadata": {},
   "outputs": [],
   "source": [
    "%load_ext autoreload\n",
    "%autoreload 2"
   ]
  },
  {
   "cell_type": "code",
   "execution_count": null,
   "metadata": {},
   "outputs": [],
   "source": [
    "from reinforcement.players import DummyPlayer, ModelPlayer\n",
    "from reinforcement.sequential_dqn.original_dqn import DQNTrainer\n",
    "from modeling.chessformer import ChessFormer\n",
    "from torch.optim import Adam\n",
    "import torch as t\n",
    "from copy import deepcopy"
   ]
  },
  {
   "cell_type": "code",
   "execution_count": null,
   "metadata": {},
   "outputs": [],
   "source": [
    "BUFFER_SIZE = 1_000_000\n",
    "RANDOM_ACTION_RATE = 0.0\n",
    "UPDATE_Q_EVERY_STEP = 100_000\n",
    "BATCH_SIZE = 32"
   ]
  },
  {
   "cell_type": "code",
   "execution_count": null,
   "metadata": {},
   "outputs": [],
   "source": [
    "model = ChessFormer(6, 3, 512, 2048, 64, 8, 0.2).to('cuda')\n",
    "model_state_dict = t.load('runs/experiment_4/model.pt', map_location='cuda')\n",
    "model.load_state_dict(model_state_dict)\n",
    "optimizer = Adam(model.parameters(), eps=1e-1 ,lr=1e-3)\n",
    "#competitor = DummyPlayer()\n",
    "competitor_model = deepcopy(model)\n",
    "competitor_model.requires_grad_(False)\n",
    "competitor = ModelPlayer(competitor_model, random_action_rate=0.0, model_device='cuda')"
   ]
  },
  {
   "cell_type": "code",
   "execution_count": null,
   "metadata": {},
   "outputs": [],
   "source": [
    "trainer = DQNTrainer(model,\n",
    "                     RANDOM_ACTION_RATE,\n",
    "                     BUFFER_SIZE,\n",
    "                     UPDATE_Q_EVERY_STEP,\n",
    "                     competitor,\n",
    "                     BATCH_SIZE,\n",
    "                     optimizer,\n",
    "                     experiment_name='experiment_5_bis',\n",
    "                     model_device='cuda')"
   ]
  },
  {
   "cell_type": "code",
   "execution_count": null,
   "metadata": {},
   "outputs": [],
   "source": [
    "trainer.train(10000)"
   ]
  },
  {
   "cell_type": "code",
   "execution_count": null,
   "metadata": {},
   "outputs": [],
   "source": [
    "t.save(trainer.model.state_dict(), 'runs/experiment_5_bis/model.pt')"
   ]
  }
 ],
 "metadata": {
  "kernelspec": {
   "display_name": "base",
   "language": "python",
   "name": "python3"
  },
  "language_info": {
   "codemirror_mode": {
    "name": "ipython",
    "version": 3
   },
   "file_extension": ".py",
   "mimetype": "text/x-python",
   "name": "python",
   "nbconvert_exporter": "python",
   "pygments_lexer": "ipython3",
   "version": "3.10.8"
  },
  "orig_nbformat": 4,
  "vscode": {
   "interpreter": {
    "hash": "d4d1e4263499bec80672ea0156c357c1ee493ec2b1c70f0acce89fc37c4a6abe"
   }
  }
 },
 "nbformat": 4,
 "nbformat_minor": 2
}
