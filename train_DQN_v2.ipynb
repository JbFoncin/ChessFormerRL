{
 "cells": [
  {
   "cell_type": "code",
   "execution_count": null,
   "metadata": {},
   "outputs": [],
   "source": [
    "%load_ext autoreload\n",
    "%autoreload 2"
   ]
  },
  {
   "cell_type": "code",
   "execution_count": null,
   "metadata": {},
   "outputs": [],
   "source": [
    "from reinforcement.players import DummyPlayer\n",
    "from reinforcement.dqn.dqn_v2 import DQNTrainerV2\n",
    "from modeling.chessformer import ChessFormerDQN\n",
    "from torch.optim import AdamW\n",
    "import torch as t\n",
    "from copy import deepcopy"
   ]
  },
  {
   "cell_type": "code",
   "execution_count": null,
   "metadata": {},
   "outputs": [],
   "source": [
    "BUFFER_SIZE = 1_000_000\n",
    "RANDOM_ACTION_RATE = 0.0\n",
    "BATCH_SIZE = 32\n",
    "NB_STEPS_REWARD = 1\n",
    "WARM_UP_STEPS = 20_000\n",
    "ALPHA_SAMPLING = 0.7\n",
    "BETA_SAMPLING = 0.5"
   ]
  },
  {
   "cell_type": "code",
   "execution_count": null,
   "metadata": {},
   "outputs": [],
   "source": [
    "model_1 = ChessFormerDQN(6, 3, 512, 2048, 64, 8).to('cuda')\n",
    "model_2 = ChessFormerDQN(6, 3, 512, 2048, 64, 8).to('cuda')\n",
    "#model_1_state_dict = t.load('runs/experiment_4/model_1.pt', map_location='cuda')\n",
    "#model_1.load_state_dict(model_state_dict)\n",
    "optimizer = AdamW(model_1.parameters(), lr=1e-4, eps=1e-1)\n",
    "competitor = DummyPlayer()"
   ]
  },
  {
   "cell_type": "code",
   "execution_count": null,
   "metadata": {},
   "outputs": [],
   "source": [
    "TAU = 0.0001"
   ]
  },
  {
   "cell_type": "code",
   "execution_count": null,
   "metadata": {},
   "outputs": [],
   "source": [
    "trainer = DQNTrainerV2(model_1=model_1,\n",
    "                       model_2=model_2,\n",
    "                       optimizer=optimizer,\n",
    "                       buffer_size=BUFFER_SIZE,\n",
    "                       competitor=competitor,\n",
    "                       batch_size=BATCH_SIZE,\n",
    "                       experiment_name='experiment_15',\n",
    "                       model_device='cuda',\n",
    "                       nb_steps_reward=NB_STEPS_REWARD,\n",
    "                       warm_up_steps=WARM_UP_STEPS,\n",
    "                       alpha_sampling=ALPHA_SAMPLING,\n",
    "                       beta_sampling=BETA_SAMPLING,\n",
    "                       tau=TAU)"
   ]
  },
  {
   "cell_type": "code",
   "execution_count": null,
   "metadata": {},
   "outputs": [],
   "source": [
    "trainer.train(15000)"
   ]
  },
  {
   "cell_type": "code",
   "execution_count": null,
   "metadata": {},
   "outputs": [],
   "source": [
    "t.save(model_1.state_dict(), 'runs/experiment_15/model.pt')"
   ]
  },
  {
   "cell_type": "code",
   "execution_count": null,
   "metadata": {},
   "outputs": [],
   "source": []
  }
 ],
 "metadata": {
  "kernelspec": {
   "display_name": "base",
   "language": "python",
   "name": "python3"
  },
  "language_info": {
   "codemirror_mode": {
    "name": "ipython",
    "version": 3
   },
   "file_extension": ".py",
   "mimetype": "text/x-python",
   "name": "python",
   "nbconvert_exporter": "python",
   "pygments_lexer": "ipython3",
   "version": "3.10.8"
  },
  "orig_nbformat": 4,
  "vscode": {
   "interpreter": {
    "hash": "d4d1e4263499bec80672ea0156c357c1ee493ec2b1c70f0acce89fc37c4a6abe"
   }
  }
 },
 "nbformat": 4,
 "nbformat_minor": 2
}
