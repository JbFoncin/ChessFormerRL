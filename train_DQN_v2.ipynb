{
 "cells": [
  {
   "cell_type": "code",
   "execution_count": 1,
   "metadata": {},
   "outputs": [],
   "source": [
    "%load_ext autoreload\n",
    "%autoreload 2"
   ]
  },
  {
   "cell_type": "code",
   "execution_count": 2,
   "metadata": {},
   "outputs": [
    {
     "name": "stderr",
     "output_type": "stream",
     "text": [
      "/opt/conda/lib/python3.10/site-packages/tqdm/auto.py:22: TqdmWarning: IProgress not found. Please update jupyter and ipywidgets. See https://ipywidgets.readthedocs.io/en/stable/user_install.html\n",
      "  from .autonotebook import tqdm as notebook_tqdm\n"
     ]
    }
   ],
   "source": [
    "from reinforcement.players import DummyPlayer, ModelPlayer\n",
    "from reinforcement.sequential_dqn.dqn_v2 import DQNTrainerV2\n",
    "from modeling.chessformer import ChessFormer\n",
    "from torch.optim import AdamW\n",
    "import torch as t\n",
    "from copy import deepcopy"
   ]
  },
  {
   "cell_type": "code",
   "execution_count": 3,
   "metadata": {},
   "outputs": [],
   "source": [
    "BUFFER_SIZE = 1_000_000\n",
    "RANDOM_ACTION_RATE = 0.0\n",
    "BATCH_SIZE = 32\n",
    "NB_STEPS_REWARD = 1\n",
    "WARM_UP_STEPS = 10_000\n",
    "ALPHA_SAMPLING = 0.7\n",
    "BETA_SAMPLING = 0.5"
   ]
  },
  {
   "cell_type": "code",
   "execution_count": 4,
   "metadata": {},
   "outputs": [],
   "source": [
    "#model_1 = ChessFormer(6, 3, 512, 2048, 64, 8, 0.0).to('cuda')\n",
    "#model_2 = ChessFormer(6, 3, 512, 2048, 64, 8, 0.0).to('cuda')\n",
    "##model_1_state_dict = t.load('runs/experiment_4/model_1.pt', map_location='cuda')\n",
    "##model_1.load_state_dict(model_state_dict)\n",
    "#optimizer_1 = AdamW(model_1.parameters(), lr=1e-3, eps=1e-2)\n",
    "#optimizer_2 = AdamW(model_2.parameters(), lr=1e-3, eps=1e-2)\n",
    "#competitor = DummyPlayer()\n",
    "##competitor_model = deepcopy(model)\n",
    "##competitor_model.requires_grad_(False)\n",
    "##competitor = ModelPlayer(competitor_model, random_action_rate=0.0, model_device='cuda')"
   ]
  },
  {
   "cell_type": "code",
   "execution_count": 5,
   "metadata": {},
   "outputs": [],
   "source": [
    "model_1 = ChessFormer(6, 3, 512, 2048, 64, 8, 0.0).to('cuda')\n",
    "model_2 = ChessFormer(6, 3, 512, 2048, 64, 8, 0.0).to('cuda')\n",
    "#model_1_state_dict = t.load('runs/experiment_4/model_1.pt', map_location='cuda')\n",
    "#model_1.load_state_dict(model_state_dict)\n",
    "optimizer = AdamW(model_1.parameters(), lr=1e-4, eps=1e-1)\n",
    "competitor = DummyPlayer()"
   ]
  },
  {
   "cell_type": "code",
   "execution_count": 6,
   "metadata": {},
   "outputs": [],
   "source": [
    "TAU = 0.0001"
   ]
  },
  {
   "cell_type": "code",
   "execution_count": 7,
   "metadata": {},
   "outputs": [],
   "source": [
    "#trainer = DQNTrainerV2(model_1,\n",
    "#                       model_2,\n",
    "#                       optimizer_1,\n",
    "#                       optimizer_2,\n",
    "#                       BUFFER_SIZE,\n",
    "#                       competitor,\n",
    "#                       BATCH_SIZE,\n",
    "#                       experiment_name='experiment_11',\n",
    "#                       models_device='cuda',\n",
    "#                       nb_steps_reward=NB_STEPS_REWARD,\n",
    "#                       warm_up_steps=WARM_UP_STEPS,\n",
    "#                       alpha_sampling=ALPHA_SAMPLING,\n",
    "#                       beta_sampling=BETA_SAMPLING)"
   ]
  },
  {
   "cell_type": "code",
   "execution_count": 8,
   "metadata": {},
   "outputs": [
    {
     "name": "stderr",
     "output_type": "stream",
     "text": [
      "2023-03-28 08:49:31.837851: I tensorflow/core/platform/cpu_feature_guard.cc:193] This TensorFlow binary is optimized with oneAPI Deep Neural Network Library (oneDNN) to use the following CPU instructions in performance-critical operations:  AVX2 AVX512F FMA\n",
      "To enable them in other operations, rebuild TensorFlow with the appropriate compiler flags.\n",
      "2023-03-28 08:49:32.560391: W tensorflow/compiler/xla/stream_executor/platform/default/dso_loader.cc:64] Could not load dynamic library 'libnvinfer.so.7'; dlerror: libnvinfer.so.7: cannot open shared object file: No such file or directory; LD_LIBRARY_PATH: /usr/local/nvidia/lib:/usr/local/nvidia/lib64\n",
      "2023-03-28 08:49:32.560439: W tensorflow/compiler/xla/stream_executor/platform/default/dso_loader.cc:64] Could not load dynamic library 'libnvinfer_plugin.so.7'; dlerror: libnvinfer_plugin.so.7: cannot open shared object file: No such file or directory; LD_LIBRARY_PATH: /usr/local/nvidia/lib:/usr/local/nvidia/lib64\n",
      "2023-03-28 08:49:32.560443: W tensorflow/compiler/tf2tensorrt/utils/py_utils.cc:38] TF-TRT Warning: Cannot dlopen some TensorRT libraries. If you would like to use Nvidia GPU with TensorRT, please make sure the missing libraries mentioned above are installed properly.\n"
     ]
    }
   ],
   "source": [
    "trainer = DQNTrainerV2(model_1=model_1,\n",
    "                       model_2=model_2,\n",
    "                       optimizer=optimizer,\n",
    "                       buffer_size=BUFFER_SIZE,\n",
    "                       competitor=competitor,\n",
    "                       batch_size=BATCH_SIZE,\n",
    "                       experiment_name='experiment_15',\n",
    "                       model_device='cuda',\n",
    "                       nb_steps_reward=NB_STEPS_REWARD,\n",
    "                       warm_up_steps=WARM_UP_STEPS,\n",
    "                       alpha_sampling=ALPHA_SAMPLING,\n",
    "                       beta_sampling=BETA_SAMPLING,\n",
    "                       tau=TAU)"
   ]
  },
  {
   "cell_type": "code",
   "execution_count": 9,
   "metadata": {},
   "outputs": [
    {
     "name": "stderr",
     "output_type": "stream",
     "text": [
      " 48%|████▊     | 7214/15000 [31:15:09<45:40:14, 21.12s/it]"
     ]
    }
   ],
   "source": [
    "trainer.train(15000)"
   ]
  },
  {
   "cell_type": "code",
   "execution_count": null,
   "metadata": {},
   "outputs": [],
   "source": [
    "t.save(model_1.state_dict(), 'runs/experiment_15/model.pt')\n",
    "#t.save(model_2.state_dict(), 'runs/experiment_11/model2.pt')"
   ]
  },
  {
   "cell_type": "code",
   "execution_count": null,
   "metadata": {},
   "outputs": [],
   "source": []
  }
 ],
 "metadata": {
  "kernelspec": {
   "display_name": "base",
   "language": "python",
   "name": "python3"
  },
  "language_info": {
   "codemirror_mode": {
    "name": "ipython",
    "version": 3
   },
   "file_extension": ".py",
   "mimetype": "text/x-python",
   "name": "python",
   "nbconvert_exporter": "python",
   "pygments_lexer": "ipython3",
   "version": "3.10.8"
  },
  "orig_nbformat": 4,
  "vscode": {
   "interpreter": {
    "hash": "d4d1e4263499bec80672ea0156c357c1ee493ec2b1c70f0acce89fc37c4a6abe"
   }
  }
 },
 "nbformat": 4,
 "nbformat_minor": 2
}
