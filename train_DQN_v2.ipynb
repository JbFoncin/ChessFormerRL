{
 "cells": [
  {
   "cell_type": "code",
   "execution_count": null,
   "metadata": {},
   "outputs": [],
   "source": [
    "%load_ext autoreload\n",
    "%autoreload 2"
   ]
  },
  {
   "cell_type": "code",
   "execution_count": null,
   "metadata": {},
   "outputs": [],
   "source": [
    "from reinforcement.players import DummyPlayer, ModelPlayer\n",
    "from reinforcement.sequential_dqn.dqn_v2 import DQNTrainerV2\n",
    "from modeling.chessformer import ChessFormer\n",
    "from torch.optim import Adam\n",
    "import torch as t\n",
    "from copy import deepcopy"
   ]
  },
  {
   "cell_type": "code",
   "execution_count": null,
   "metadata": {},
   "outputs": [],
   "source": [
    "BUFFER_SIZE = 1_000_000\n",
    "RANDOM_ACTION_RATE = 0.0\n",
    "REVERT_MODELS_EVERY_STEP = 10_000\n",
    "BATCH_SIZE = 32\n",
    "NB_STEPS_REWARD = 3\n",
    "EPSILON_SAMPLING = 0.001"
   ]
  },
  {
   "cell_type": "code",
   "execution_count": null,
   "metadata": {},
   "outputs": [],
   "source": [
    "model_1 = ChessFormer(6, 3, 512, 2048, 64, 8, 0.2).to('cuda')\n",
    "model_2 = ChessFormer(6, 3, 512, 2048, 64, 8, 0.2).to('cuda')\n",
    "#model_1_state_dict = t.load('runs/experiment_4/model_1.pt', map_location='cuda')\n",
    "#model_1.load_state_dict(model_state_dict)\n",
    "optimizer_1 = Adam(model_1.parameters(), eps=1e-1 ,lr=1e-3)\n",
    "optimizer_2 = Adam(model_2.parameters(), eps=1e-1, lr=1e-3)\n",
    "competitor = DummyPlayer()\n",
    "#competitor_model = deepcopy(model)\n",
    "#competitor_model.requires_grad_(False)\n",
    "#competitor = ModelPlayer(competitor_model, random_action_rate=0.0, model_device='cuda')"
   ]
  },
  {
   "cell_type": "code",
   "execution_count": null,
   "metadata": {},
   "outputs": [],
   "source": [
    "trainer = DQNTrainerV2(model_1,\n",
    "                       model_2,\n",
    "                       optimizer_1,\n",
    "                       optimizer_2,\n",
    "                       BUFFER_SIZE,\n",
    "                       REVERT_MODELS_EVERY_STEP,\n",
    "                       competitor,\n",
    "                       BATCH_SIZE,\n",
    "                       experiment_name='experiment_6',\n",
    "                       models_device='cuda',\n",
    "                       nb_steps_reward=NB_STEPS_REWARD,\n",
    "                       epsilon_sampling=EPSILON_SAMPLING)"
   ]
  },
  {
   "cell_type": "code",
   "execution_count": null,
   "metadata": {},
   "outputs": [],
   "source": [
    "trainer.train(10000)"
   ]
  }
 ],
 "metadata": {
  "language_info": {
   "name": "python"
  },
  "orig_nbformat": 4
 },
 "nbformat": 4,
 "nbformat_minor": 2
}
