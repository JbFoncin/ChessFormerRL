{
 "cells": [
  {
   "cell_type": "code",
   "execution_count": 1,
   "metadata": {},
   "outputs": [],
   "source": [
    "%load_ext autoreload\n",
    "%autoreload 2"
   ]
  },
  {
   "cell_type": "code",
   "execution_count": 2,
   "metadata": {},
   "outputs": [
    {
     "name": "stderr",
     "output_type": "stream",
     "text": [
      "/opt/conda/lib/python3.10/site-packages/tqdm/auto.py:22: TqdmWarning: IProgress not found. Please update jupyter and ipywidgets. See https://ipywidgets.readthedocs.io/en/stable/user_install.html\n",
      "  from .autonotebook import tqdm as notebook_tqdm\n"
     ]
    }
   ],
   "source": [
    "from reinforcement.players import DummyPlayer, ModelPlayer\n",
    "from reinforcement.sequential_dqn.dqn_v2 import DQNTrainerV2\n",
    "from modeling.chessformer import ChessFormer\n",
    "from torch.optim import Adam\n",
    "import torch as t\n",
    "from copy import deepcopy"
   ]
  },
  {
   "cell_type": "code",
   "execution_count": 3,
   "metadata": {},
   "outputs": [],
   "source": [
    "BUFFER_SIZE = 1_000_000\n",
    "RANDOM_ACTION_RATE = 0.0\n",
    "REVERT_MODELS_EVERY_STEP = 1000\n",
    "BATCH_SIZE = 32\n",
    "NB_STEPS_REWARD = 3\n",
    "EPSILON_SAMPLING = 0.001"
   ]
  },
  {
   "cell_type": "code",
   "execution_count": 4,
   "metadata": {},
   "outputs": [],
   "source": [
    "model_1 = ChessFormer(6, 3, 512, 2048, 64, 8, 0.2).to('cuda')\n",
    "model_2 = ChessFormer(6, 3, 512, 2048, 64, 8, 0.2).to('cuda')\n",
    "#model_1_state_dict = t.load('runs/experiment_4/model_1.pt', map_location='cuda')\n",
    "#model_1.load_state_dict(model_state_dict)\n",
    "optimizer_1 = Adam(model_1.parameters(), eps=1e-1 ,lr=1e-3)\n",
    "optimizer_2 = Adam(model_2.parameters(), eps=1e-1, lr=1e-3)\n",
    "competitor = DummyPlayer()\n",
    "#competitor_model = deepcopy(model)\n",
    "#competitor_model.requires_grad_(False)\n",
    "#competitor = ModelPlayer(competitor_model, random_action_rate=0.0, model_device='cuda')"
   ]
  },
  {
   "cell_type": "code",
   "execution_count": 5,
   "metadata": {},
   "outputs": [
    {
     "name": "stderr",
     "output_type": "stream",
     "text": [
      "2023-03-20 19:46:29.901540: I tensorflow/core/platform/cpu_feature_guard.cc:193] This TensorFlow binary is optimized with oneAPI Deep Neural Network Library (oneDNN) to use the following CPU instructions in performance-critical operations:  AVX2 AVX512F FMA\n",
      "To enable them in other operations, rebuild TensorFlow with the appropriate compiler flags.\n",
      "2023-03-20 19:46:30.615451: W tensorflow/compiler/xla/stream_executor/platform/default/dso_loader.cc:64] Could not load dynamic library 'libnvinfer.so.7'; dlerror: libnvinfer.so.7: cannot open shared object file: No such file or directory; LD_LIBRARY_PATH: /usr/local/nvidia/lib:/usr/local/nvidia/lib64\n",
      "2023-03-20 19:46:30.615497: W tensorflow/compiler/xla/stream_executor/platform/default/dso_loader.cc:64] Could not load dynamic library 'libnvinfer_plugin.so.7'; dlerror: libnvinfer_plugin.so.7: cannot open shared object file: No such file or directory; LD_LIBRARY_PATH: /usr/local/nvidia/lib:/usr/local/nvidia/lib64\n",
      "2023-03-20 19:46:30.615501: W tensorflow/compiler/tf2tensorrt/utils/py_utils.cc:38] TF-TRT Warning: Cannot dlopen some TensorRT libraries. If you would like to use Nvidia GPU with TensorRT, please make sure the missing libraries mentioned above are installed properly.\n"
     ]
    }
   ],
   "source": [
    "trainer = DQNTrainerV2(model_1,\n",
    "                       model_2,\n",
    "                       optimizer_1,\n",
    "                       optimizer_2,\n",
    "                       BUFFER_SIZE,\n",
    "                       REVERT_MODELS_EVERY_STEP,\n",
    "                       competitor,\n",
    "                       BATCH_SIZE,\n",
    "                       experiment_name='experiment_7',\n",
    "                       models_device='cuda',\n",
    "                       nb_steps_reward=NB_STEPS_REWARD,\n",
    "                       epsilon_sampling=EPSILON_SAMPLING)"
   ]
  },
  {
   "cell_type": "code",
   "execution_count": 6,
   "metadata": {},
   "outputs": [
    {
     "name": "stderr",
     "output_type": "stream",
     "text": [
      "  0%|          | 7/10000 [01:52<41:46:57, 15.05s/it]"
     ]
    }
   ],
   "source": [
    "trainer.train(10000)"
   ]
  },
  {
   "cell_type": "code",
   "execution_count": null,
   "metadata": {},
   "outputs": [],
   "source": [
    "t.save(model_1.state_dict(), 'runs/experiment_6/model.pt')\n",
    "t.save(model_2.state_dict(), 'runs/experiment_6/model.pt')"
   ]
  }
 ],
 "metadata": {
  "kernelspec": {
   "display_name": "base",
   "language": "python",
   "name": "python3"
  },
  "language_info": {
   "codemirror_mode": {
    "name": "ipython",
    "version": 3
   },
   "file_extension": ".py",
   "mimetype": "text/x-python",
   "name": "python",
   "nbconvert_exporter": "python",
   "pygments_lexer": "ipython3",
   "version": "3.10.8"
  },
  "orig_nbformat": 4
 },
 "nbformat": 4,
 "nbformat_minor": 2
}
