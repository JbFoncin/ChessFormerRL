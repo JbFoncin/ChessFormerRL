{
 "cells": [
  {
   "cell_type": "code",
   "execution_count": null,
   "metadata": {},
   "outputs": [],
   "source": [
    "import torch as t\n",
    "from chess import Board\n",
    "from chess import svg\n",
    "from modeling.chessformer import ChessFormerA2C\n",
    "from reinforcement.players import A2CModelPlayer\n",
    "from IPython.display import clear_output\n",
    "from IPython.display import SVG, display"
   ]
  },
  {
   "cell_type": "code",
   "execution_count": null,
   "metadata": {},
   "outputs": [],
   "source": [
    "model = ChessFormerA2C(nb_encoder_layers=6, nb_decoder_layers_policy=3, embedding_dim=512,\n",
    "                       bottleneck_hidden_dim=2048, dim_per_head=64, nb_head=8)"
   ]
  },
  {
   "cell_type": "code",
   "execution_count": null,
   "metadata": {},
   "outputs": [],
   "source": [
    "model.load_state_dict(t.load('runs/a2c_test_lr5e-6_history_len_1_vs_opponent_16/model.pt', map_location='cpu'))"
   ]
  },
  {
   "cell_type": "code",
   "execution_count": null,
   "metadata": {},
   "outputs": [],
   "source": [
    "competitor = A2CModelPlayer(model, model_device='cpu')"
   ]
  },
  {
   "cell_type": "code",
   "execution_count": null,
   "metadata": {},
   "outputs": [],
   "source": [
    "competitor.set_color(False)"
   ]
  },
  {
   "cell_type": "code",
   "execution_count": null,
   "metadata": {},
   "outputs": [],
   "source": [
    "board = Board()"
   ]
  },
  {
   "cell_type": "code",
   "execution_count": null,
   "metadata": {},
   "outputs": [],
   "source": [
    "while True:\n",
    "    \n",
    "    display(SVG(svg.board(board, size=400)))\n",
    "    \n",
    "    moves = [str(move) for move in board.legal_moves]\n",
    "    \n",
    "    print(moves)\n",
    "    \n",
    "    chosen_action = input('choose move: ')\n",
    "    \n",
    "    board.push_san(chosen_action)\n",
    "    \n",
    "    opponent_action = competitor.choose_action(board)\n",
    "    \n",
    "    board.push_san(opponent_action.action)\n",
    "    \n",
    "    clear_output(wait=True)"
   ]
  }
 ],
 "metadata": {
  "kernelspec": {
   "display_name": "base",
   "language": "python",
   "name": "python3"
  },
  "language_info": {
   "codemirror_mode": {
    "name": "ipython",
    "version": 3
   },
   "file_extension": ".py",
   "mimetype": "text/x-python",
   "name": "python",
   "nbconvert_exporter": "python",
   "pygments_lexer": "ipython3",
   "version": "3.10.8"
  }
 },
 "nbformat": 4,
 "nbformat_minor": 2
}
