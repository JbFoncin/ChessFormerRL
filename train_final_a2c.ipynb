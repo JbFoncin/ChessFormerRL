{
 "cells": [
  {
   "cell_type": "code",
   "execution_count": 1,
   "metadata": {},
   "outputs": [
    {
     "name": "stderr",
     "output_type": "stream",
     "text": [
      "/opt/conda/lib/python3.10/site-packages/tqdm/auto.py:22: TqdmWarning: IProgress not found. Please update jupyter and ipywidgets. See https://ipywidgets.readthedocs.io/en/stable/user_install.html\n",
      "  from .autonotebook import tqdm as notebook_tqdm\n"
     ]
    }
   ],
   "source": [
    "from copy import deepcopy\n",
    "\n",
    "import torch as t\n",
    "from torch.optim import Adam\n",
    "\n",
    "from modeling.chessformer import ChessFormerA2C\n",
    "from reinforcement.actor_critic.a2c import A2CTrainer\n",
    "from reinforcement.players import A2CModelPlayer"
   ]
  },
  {
   "cell_type": "code",
   "execution_count": 2,
   "metadata": {},
   "outputs": [],
   "source": [
    "MAX_BATCH_SIZE = 128"
   ]
  },
  {
   "cell_type": "code",
   "execution_count": 3,
   "metadata": {},
   "outputs": [],
   "source": [
    "model = ChessFormerA2C(nb_encoder_layers=6, nb_decoder_layers_policy=3, embedding_dim=512,\n",
    "                       bottleneck_hidden_dim=2048, dim_per_head=64, nb_head=8).to('cuda')\n",
    "\n",
    "model.load_state_dict(t.load('runs/a2c_test_lr5e-6_history_len_1_vs_opponent_2/model.pt'))\n",
    "\n",
    "optimizer = Adam(model.parameters(), lr=5e-6)"
   ]
  },
  {
   "cell_type": "code",
   "execution_count": 4,
   "metadata": {},
   "outputs": [
    {
     "name": "stderr",
     "output_type": "stream",
     "text": [
      "2023-12-08 12:40:27.914084: I tensorflow/core/platform/cpu_feature_guard.cc:193] This TensorFlow binary is optimized with oneAPI Deep Neural Network Library (oneDNN) to use the following CPU instructions in performance-critical operations:  AVX2 AVX512F FMA\n",
      "To enable them in other operations, rebuild TensorFlow with the appropriate compiler flags.\n",
      "2023-12-08 12:40:28.695852: W tensorflow/compiler/xla/stream_executor/platform/default/dso_loader.cc:64] Could not load dynamic library 'libnvinfer.so.7'; dlerror: libnvinfer.so.7: cannot open shared object file: No such file or directory; LD_LIBRARY_PATH: /usr/local/nvidia/lib:/usr/local/nvidia/lib64\n",
      "2023-12-08 12:40:28.695898: W tensorflow/compiler/xla/stream_executor/platform/default/dso_loader.cc:64] Could not load dynamic library 'libnvinfer_plugin.so.7'; dlerror: libnvinfer_plugin.so.7: cannot open shared object file: No such file or directory; LD_LIBRARY_PATH: /usr/local/nvidia/lib:/usr/local/nvidia/lib64\n",
      "2023-12-08 12:40:28.695901: W tensorflow/compiler/tf2tensorrt/utils/py_utils.cc:38] TF-TRT Warning: Cannot dlopen some TensorRT libraries. If you would like to use Nvidia GPU with TensorRT, please make sure the missing libraries mentioned above are installed properly.\n",
      "100%|██████████| 50000/50000 [5:10:34<00:00,  2.68it/s]  \n",
      "100%|██████████| 50000/50000 [5:07:32<00:00,  2.71it/s]  \n",
      "100%|██████████| 50000/50000 [3:40:44<00:00,  3.78it/s]  \n",
      "100%|██████████| 50000/50000 [4:47:46<00:00,  2.90it/s]  \n",
      "100%|██████████| 50000/50000 [5:17:03<00:00,  2.63it/s]  \n",
      "100%|██████████| 50000/50000 [5:35:17<00:00,  2.49it/s]  \n",
      "100%|██████████| 50000/50000 [5:45:04<00:00,  2.41it/s]  \n",
      "100%|██████████| 50000/50000 [5:24:18<00:00,  2.57it/s]  \n",
      "100%|██████████| 50000/50000 [2:28:12<00:00,  5.62it/s]  \n",
      "100%|██████████| 50000/50000 [4:53:17<00:00,  2.84it/s]  \n",
      "100%|██████████| 50000/50000 [3:49:51<00:00,  3.63it/s]   \n",
      "100%|██████████| 50000/50000 [4:50:35<00:00,  2.87it/s]  \n",
      "100%|██████████| 50000/50000 [5:52:46<00:00,  2.36it/s]  \n",
      "100%|██████████| 50000/50000 [5:32:43<00:00,  2.50it/s]  \n",
      "100%|██████████| 50000/50000 [5:43:45<00:00,  2.42it/s]  \n",
      " 15%|█▍        | 7469/50000 [45:50<3:26:32,  3.43it/s]"
     ]
    }
   ],
   "source": [
    "for i in range(3, 21):\n",
    "    \n",
    "    competitor = A2CModelPlayer(deepcopy(model), model_device='cuda')\n",
    "    \n",
    "    experiment_name = f'a2c_test_lr5e-6_history_len_1_vs_opponent_{i}'\n",
    "    \n",
    "    trainer = A2CTrainer(model,\n",
    "                         optimizer,\n",
    "                         competitor,\n",
    "                         MAX_BATCH_SIZE,\n",
    "                         experiment_name,\n",
    "                         model_device='cuda',\n",
    "                         history_len=1)\n",
    "    \n",
    "    trainer.train(50_000)\n",
    "    \n",
    "    t.save(model.state_dict(), f'runs/{experiment_name}/model.pt')"
   ]
  },
  {
   "cell_type": "code",
   "execution_count": null,
   "metadata": {},
   "outputs": [],
   "source": []
  }
 ],
 "metadata": {
  "kernelspec": {
   "display_name": "base",
   "language": "python",
   "name": "python3"
  },
  "language_info": {
   "codemirror_mode": {
    "name": "ipython",
    "version": 3
   },
   "file_extension": ".py",
   "mimetype": "text/x-python",
   "name": "python",
   "nbconvert_exporter": "python",
   "pygments_lexer": "ipython3",
   "version": "3.10.8"
  }
 },
 "nbformat": 4,
 "nbformat_minor": 2
}
